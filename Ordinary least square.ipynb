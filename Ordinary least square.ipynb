{
 "cells": [
  {
   "cell_type": "markdown",
   "id": "4c1eba41",
   "metadata": {},
   "source": [
    "# Tim nghiem bai toan binh phuong toi tieu\n",
    "$||Ax-b||_(min)^2$\n",
    "\n",
    "$\\hat{x}=(A^TA)^{-1}(A^Tb)$\n"
   ]
  },
  {
   "cell_type": "code",
   "execution_count": 1,
   "id": "839a78a0",
   "metadata": {},
   "outputs": [],
   "source": [
    "import numpy as np\n",
    "from matplotlib import pyplot as plt"
   ]
  },
  {
   "cell_type": "code",
   "execution_count": 2,
   "id": "2493dd9f",
   "metadata": {},
   "outputs": [],
   "source": [
    "def bptoitieu(A,b):\n",
    "    return np.matmul(np.linalg.inv(np.matmul(A.T,A)),np.matmul(A.T,b))"
   ]
  },
  {
   "cell_type": "code",
   "execution_count": 3,
   "id": "3fef7516",
   "metadata": {},
   "outputs": [
    {
     "data": {
      "text/plain": [
       "array([[ 7.],\n",
       "       [-2.]])"
      ]
     },
     "execution_count": 3,
     "metadata": {},
     "output_type": "execute_result"
    }
   ],
   "source": [
    "A=np.array([[1,2],[2,5]])\n",
    "b=[[3],[4]]\n",
    "bptoitieu(A,b)"
   ]
  },
  {
   "cell_type": "markdown",
   "id": "a7e3ecfa",
   "metadata": {},
   "source": [
    "## Data fitting"
   ]
  },
  {
   "cell_type": "markdown",
   "id": "8f20fdce",
   "metadata": {},
   "source": [
    "X=1,2,3,4\n",
    "\n",
    "Y=2,5,5,8"
   ]
  },
  {
   "cell_type": "markdown",
   "id": "dcf0c947",
   "metadata": {},
   "source": [
    "$Y=\\theta_1+\\theta_2X$"
   ]
  },
  {
   "cell_type": "code",
   "execution_count": 4,
   "id": "7da4453d",
   "metadata": {},
   "outputs": [],
   "source": [
    "x=[1,2,3,4]\n",
    "y=[2,5,5,8]"
   ]
  },
  {
   "cell_type": "code",
   "execution_count": 5,
   "id": "7a9889a1",
   "metadata": {},
   "outputs": [],
   "source": [
    "def getAb(x,y):\n",
    "    colx=np.ones(len(x))\n",
    "    coly=np.array(x)\n",
    "    A=np.transpose(np.array([colx,coly]))\n",
    "    b=np.array(y).reshape(len(y),1)\n",
    "    return A,b"
   ]
  },
  {
   "cell_type": "code",
   "execution_count": 7,
   "id": "b158cf75",
   "metadata": {},
   "outputs": [
    {
     "data": {
      "text/plain": [
       "(array([[1., 1.],\n",
       "        [1., 2.],\n",
       "        [1., 3.],\n",
       "        [1., 4.]]),\n",
       " array([[2],\n",
       "        [5],\n",
       "        [5],\n",
       "        [8]]))"
      ]
     },
     "execution_count": 7,
     "metadata": {},
     "output_type": "execute_result"
    }
   ],
   "source": [
    "getAb(x,y)"
   ]
  },
  {
   "cell_type": "code",
   "execution_count": 9,
   "id": "44e43228",
   "metadata": {},
   "outputs": [
    {
     "data": {
      "text/plain": [
       "array([[0.5],\n",
       "       [1.8]])"
      ]
     },
     "execution_count": 9,
     "metadata": {},
     "output_type": "execute_result"
    }
   ],
   "source": [
    "bptoitieu(getAb(x,y)[0],getAb(x,y)[1])"
   ]
  },
  {
   "cell_type": "markdown",
   "id": "3a62b5ab",
   "metadata": {},
   "source": [
    "$Y=\\theta_1+\\theta_2X+\\theta_3X^2$"
   ]
  },
  {
   "cell_type": "code",
   "execution_count": 10,
   "id": "8779f2d7",
   "metadata": {},
   "outputs": [],
   "source": [
    "def getAb(x,y):\n",
    "    colx=np.ones(len(x))\n",
    "    coly=np.array(x)\n",
    "    A=np.transpose(np.array([colx,coly,coly**2]))\n",
    "    b=np.array(y).reshape(len(y),1)\n",
    "    return A,b"
   ]
  },
  {
   "cell_type": "code",
   "execution_count": 19,
   "id": "fc90a6a4",
   "metadata": {},
   "outputs": [],
   "source": [
    "theta=bptoitieu(getAb(x,y)[0],getAb(x,y)[1])"
   ]
  },
  {
   "cell_type": "code",
   "execution_count": 21,
   "id": "11c784cd",
   "metadata": {},
   "outputs": [],
   "source": [
    "xpoints=np.array(x)\n",
    "ypoints=np.array(y)"
   ]
  },
  {
   "cell_type": "code",
   "execution_count": 22,
   "id": "45b98ad9",
   "metadata": {},
   "outputs": [
    {
     "data": {
      "image/png": "[encoded data removed]",
      "text/plain": [
       "<Figure size 432x288 with 1 Axes>"
      ]
     },
     "metadata": {
      "needs_background": "light"
     },
     "output_type": "display_data"
    }
   ],
   "source": [
    "plt.plot(xpoints,ypoints,\"*\")\n",
    "ts=np.linspace(min(x),max(x),50)\n",
    "yts=[theta[0]+theta[1]*t for t in ts]\n",
    "plt.plot(ts,yts,color=\"red\")\n",
    "plt.show()"
   ]
  },
  {
   "cell_type": "code",
   "execution_count": null,
   "id": "14a1b9f6",
   "metadata": {},
   "outputs": [],
   "source": []
  }
 ],
 "metadata": {
  "kernelspec": {
   "display_name": "Python 3",
   "language": "python",
   "name": "python3"
  },
  "language_info": {
   "codemirror_mode": {
    "name": "ipython",
    "version": 3
   },
   "file_extension": ".py",
   "mimetype": "text/x-python",
   "name": "python",
   "nbconvert_exporter": "python",
   "pygments_lexer": "ipython3",
   "version": "3.8.8"
  }
 },
 "nbformat": 4,
 "nbformat_minor": 5
}
